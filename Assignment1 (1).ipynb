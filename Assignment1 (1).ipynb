{
  "nbformat": 4,
  "nbformat_minor": 0,
  "metadata": {
    "colab": {
      "provenance": []
    },
    "kernelspec": {
      "name": "python3",
      "display_name": "Python 3"
    },
    "language_info": {
      "name": "python"
    }
  },
  "cells": [
    {
      "cell_type": "code",
      "execution_count": null,
      "metadata": {
        "id": "iMmkRpwckRlS"
      },
      "outputs": [],
      "source": []
    },
    {
      "cell_type": "markdown",
      "source": [
        "#Assignment 1\n",
        "\n",
        "1. Explain the basic structure of an HTML page. Why is it important to follow\n",
        "this structure?\n",
        "\n",
        "  - An HTML (HyperText Markup Language) page has a standard structure that ensures web browsers can correctly interpret and display the content."
      ],
      "metadata": {
        "id": "Rha17JCKnjJi"
      }
    },
    {
      "cell_type": "code",
      "source": [
        "<!DOCTYPE html>\n",
        "<html lang=\"en\">\n",
        "<head>\n",
        "  <meta charset=\"UTF-8\">\n",
        "  <title>Page Title</title>\n",
        "  <meta name=\"viewport\" content=\"width=device-width, initial-scale=1.0\">\n",
        "  <!-- Other metadata, styles, scripts can go here -->\n",
        "</head>\n",
        "<body>\n",
        "  <!-- Visible page content goes here -->\n",
        "  <h1>Hello, World!</h1>\n",
        "  <p>This is a paragraph.</p>\n",
        "</body>\n",
        "</html>\n"
      ],
      "metadata": {
        "id": "ROIjaeJUoAR_"
      },
      "execution_count": null,
      "outputs": []
    },
    {
      "cell_type": "markdown",
      "source": [],
      "metadata": {
        "id": "X3aNBFv4ne8G"
      }
    },
    {
      "cell_type": "markdown",
      "source": [
        "- Ensures that the web browsers can correctly display  the page.\n",
        "- Helps the user to understand the features of the website effectively.\n",
        "- It becomes easier to read the code as it follows a systematic pattern.\n",
        "- This also makes the code easier to update."
      ],
      "metadata": {
        "id": "EZdKl74EoDKJ"
      }
    },
    {
      "cell_type": "markdown",
      "source": [
        "2.You’re building a small personal profile page. Which HTML tags will you\n",
        "use to highlight your name as a heading, describe yourself in a paragraph, and\n",
        "emphasize a key skill?\n",
        "\n",
        "   -"
      ],
      "metadata": {
        "id": "aSMZG711pxgW"
      }
    },
    {
      "cell_type": "code",
      "source": [
        "<!DOCTYPE html>\n",
        "<html lang=\"en\">\n",
        "<head>\n",
        "  <meta charset=\"UTF-8\">\n",
        "  <title>My Profile</title>\n",
        "</head>\n",
        "<body>\n",
        "\n",
        "\n",
        "  <h1>John Doe</h1>\n",
        "\n",
        "\n",
        "  <p>I am a passionate web developer with experience in building responsive and user-friendly websites.</p>\n",
        "\n",
        "\n",
        "  <p>One of my strongest skills is <em>JavaScript development</em>, which I use to create dynamic and interactive web applications.</p>\n",
        "\n",
        "</body>\n",
        "</html>\n"
      ],
      "metadata": {
        "id": "d28BuIpmqZFa"
      },
      "execution_count": null,
      "outputs": []
    },
    {
      "cell_type": "markdown",
      "source": [
        "- Used to highlight your name as the main heading.\n",
        "\n",
        "- Used for paragraphs to describe yourself and your skills.\n",
        "\n",
        "- Used to emphasize a key skill like JavaScript development. It typically renders the text in italic and conveys importance or stress.\n",
        "\n"
      ],
      "metadata": {
        "id": "sProi3dtqhvb"
      }
    },
    {
      "cell_type": "markdown",
      "source": [
        "3.Look at the code below. Can you find and fix the mistake?\n",
        "<!-- This is an HTML comment\n",
        "<h1>Welcome to my website</h1>"
      ],
      "metadata": {
        "id": "4hrT4msZrZ55"
      }
    },
    {
      "cell_type": "markdown",
      "source": [
        "  - Yes, there is a mistake in the HTML syntax.\n",
        "\n",
        "  -The comment is not properly closed. In HTML, comments must begin with <!-- and end with -->."
      ],
      "metadata": {
        "id": "vL2PchFwsFHp"
      }
    },
    {
      "cell_type": "code",
      "source": [
        "<!-- This is an HTML comment -->\n",
        "<h1>Welcome to my website</h1>\n"
      ],
      "metadata": {
        "id": "myexXatksTKo"
      },
      "execution_count": null,
      "outputs": []
    },
    {
      "cell_type": "markdown",
      "source": [
        "- Now, the comment is properly closed, and the heading will be rendered correctly by the browser."
      ],
      "metadata": {
        "id": "kplpMXBtsdFv"
      }
    },
    {
      "cell_type": "markdown",
      "source": [
        "4.You’re creating a form that asks the user to enter their name, select their\n",
        "country from a list, and click a button to submit. Write the HTML code for this.\n"
      ],
      "metadata": {
        "id": "7YZtoN3usk31"
      }
    },
    {
      "cell_type": "code",
      "source": [
        "<!DOCTYPE html>\n",
        "<html lang=\"en\">\n",
        "<head>\n",
        "  <meta charset=\"UTF-8\">\n",
        "  <title>User Form</title>\n",
        "</head>\n",
        "<body>\n",
        "\n",
        "  <h2>User Information Form</h2>\n",
        "\n",
        "  <form action=\"/submit\" method=\"post\">\n",
        "\n",
        "    <label for=\"name\">Name:</label>\n",
        "    <input type=\"text\" id=\"name\" name=\"name\" required>\n",
        "    <br><br>\n",
        "\n",
        "\n",
        "    <label for=\"country\">Country:</label>\n",
        "    <select id=\"country\" name=\"country\" required>\n",
        "      <option value=\"\">--Select your country--</option>\n",
        "      <option value=\"us\">United States</option>\n",
        "      <option value=\"uk\">United Kingdom</option>\n",
        "      <option value=\"ca\">Canada</option>\n",
        "      <option value=\"in\">India</option>\n",
        "\n",
        "    </select>\n",
        "    <br><br>\n",
        "\n",
        "\n",
        "    <button type=\"submit\">Submit</button>\n",
        "  </form>\n",
        "\n",
        "</body>\n",
        "</html>\n"
      ],
      "metadata": {
        "id": "CwKs1nDzsvMK"
      },
      "execution_count": null,
      "outputs": []
    },
    {
      "cell_type": "markdown",
      "source": [
        "-  Wraps the form elements; action is where the form data goes (change as needed), and method=\"post\" sends data securely.\n",
        "\n",
        "-  Defines labels for form inputs (helps with accessibility).\n",
        "\n",
        "- A text field for the user to enter their name.\n",
        "\n",
        "- A dropdown list of countries.\n",
        "\n",
        "- Submits the form."
      ],
      "metadata": {
        "id": "MnUVsvAvs7QX"
      }
    },
    {
      "cell_type": "markdown",
      "source": [
        "5. Write short HTML code to show your favorite fruits in a bulleted list and\n",
        "your top 3 programming languages in a numbered list.\n"
      ],
      "metadata": {
        "id": "ohqF_9s1tHnc"
      }
    },
    {
      "cell_type": "code",
      "source": [
        "<!DOCTYPE html>\n",
        "<html lang=\"en\">\n",
        "<head>\n",
        "  <meta charset=\"UTF-8\">\n",
        "  <title>Favorites</title>\n",
        "</head>\n",
        "<body>\n",
        "\n",
        "  <h2>My Favorite Fruits</h2>\n",
        "  <ul>\n",
        "    <li>Apple</li>\n",
        "    <li>Mango</li>\n",
        "    <li>Banana</li>\n",
        "  </ul>\n",
        "\n",
        "  <h2>Top 3 Programming Languages</h2>\n",
        "  <ol>\n",
        "    <li>JavaScript</li>\n",
        "    <li>Python</li>\n",
        "    <li>Java</li>\n",
        "  </ol>\n",
        "\n",
        "</body>\n",
        "</html>\n"
      ],
      "metadata": {
        "id": "daqtekiztcr9"
      },
      "execution_count": null,
      "outputs": []
    },
    {
      "cell_type": "markdown",
      "source": [
        "- (unordered list): Creates a bulleted list for fruits.\n",
        "\n",
        "- (ordered list): Creates a numbered list for programming languages.\n",
        "\n",
        "- Each list item."
      ],
      "metadata": {
        "id": "wpnMMtzntffT"
      }
    },
    {
      "cell_type": "markdown",
      "source": [],
      "metadata": {
        "id": "MgoIBGWDr8XU"
      }
    },
    {
      "cell_type": "markdown",
      "source": [],
      "metadata": {
        "id": "jp5iaxDIsi8j"
      }
    },
    {
      "cell_type": "markdown",
      "source": [],
      "metadata": {
        "id": "EQ0pwPX3q73M"
      }
    }
  ]
}